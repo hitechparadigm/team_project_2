{
 "cells": [
  {
   "cell_type": "code",
   "execution_count": 3,
   "metadata": {},
   "outputs": [
    {
     "name": "stderr",
     "output_type": "stream",
     "text": [
      "C:\\Users\\dimam\\AppData\\Local\\Temp\\ipykernel_7860\\2480355804.py:11: FutureWarning: A value is trying to be set on a copy of a DataFrame or Series through chained assignment using an inplace method.\n",
      "The behavior will change in pandas 3.0. This inplace method will never work because the intermediate object on which we are setting values always behaves as a copy.\n",
      "\n",
      "For example, when doing 'df[col].method(value, inplace=True)', try using 'df.method({col: value}, inplace=True)' or df[col] = df[col].method(value) instead, to perform the operation inplace on the original object.\n",
      "\n",
      "\n",
      "  df_melted['Rate'].replace('..', pd.NA, inplace=True)\n",
      "C:\\Users\\dimam\\AppData\\Local\\Temp\\ipykernel_7860\\2480355804.py:13: FutureWarning: A value is trying to be set on a copy of a DataFrame or Series through chained assignment using an inplace method.\n",
      "The behavior will change in pandas 3.0. This inplace method will never work because the intermediate object on which we are setting values always behaves as a copy.\n",
      "\n",
      "For example, when doing 'df[col].method(value, inplace=True)', try using 'df.method({col: value}, inplace=True)' or df[col] = df[col].method(value) instead, to perform the operation inplace on the original object.\n",
      "\n",
      "\n",
      "  df_melted['Rate'].fillna(method='ffill', inplace=True)\n",
      "C:\\Users\\dimam\\AppData\\Local\\Temp\\ipykernel_7860\\2480355804.py:13: FutureWarning: Series.fillna with 'method' is deprecated and will raise in a future version. Use obj.ffill() or obj.bfill() instead.\n",
      "  df_melted['Rate'].fillna(method='ffill', inplace=True)\n"
     ]
    },
    {
     "name": "stdout",
     "output_type": "stream",
     "text": [
      "Transformed DataFrame:\n",
      "Financial market statistics Month-Year  Overnight money market financing\n",
      "0                              1980-01                         13.270833\n",
      "1                              1980-02                         11.982759\n",
      "2                              1980-03                         11.427419\n",
      "3                              1980-04                         15.841667\n",
      "4                              1980-05                         17.052419\n"
     ]
    }
   ],
   "source": [
    "import pandas as pd\n",
    "\n",
    "# Load the CSV file\n",
    "file_path = '../data/raw/Bank_of_Canada_interest_rate_1980-2024.csv'\n",
    "df = pd.read_csv(file_path)\n",
    "\n",
    "# Melt the DataFrame to convert columns to rows\n",
    "df_melted = df.melt(id_vars=['Financial market statistics'], var_name='Date', value_name='Rate')\n",
    "\n",
    "# Replace '..' with NaN and then forward fill to replace with the previous value\n",
    "df_melted['Rate'].replace('..', pd.NA, inplace=True)\n",
    "df_melted['Rate'] = pd.to_numeric(df_melted['Rate'], errors='coerce')\n",
    "df_melted['Rate'].fillna(method='ffill', inplace=True)\n",
    "\n",
    "# Convert 'Date' column to datetime format\n",
    "df_melted['Date'] = pd.to_datetime(df_melted['Date'], format='%d-%b-%y')\n",
    "\n",
    "# Roll up days into month-year and calculate the average rate for each month\n",
    "df_melted['Month-Year'] = df_melted['Date'].dt.to_period('M')\n",
    "monthly_avg_df = df_melted.groupby(['Month-Year', 'Financial market statistics'])['Rate'].mean().reset_index()\n",
    "\n",
    "# Pivot the data to have 'Month-Year' as index and 'Rate' as columns\n",
    "df_pivoted = monthly_avg_df.pivot(index='Month-Year', columns='Financial market statistics', values='Rate')\n",
    "\n",
    "# Reset index to flatten the DataFrame\n",
    "df_pivoted.reset_index(inplace=True)\n",
    "\n",
    "# Select only 'Month-Year' and 'Overnight money market financing' columns\n",
    "final_df = df_pivoted[['Month-Year', 'Overnight money market financing']]\n",
    "\n",
    "# Save the transformed dataset to a new CSV file\n",
    "output_path = '../data/processed/Bank_of_Canada_interest_rate_198_.csv'\n",
    "final_df.to_csv(output_path, index=False)\n",
    "\n",
    "# Display the first few rows of the transformed dataset\n",
    "print(\"Transformed DataFrame:\")\n",
    "print(final_df.head())\n"
   ]
  },
  {
   "cell_type": "code",
   "execution_count": 7,
   "metadata": {},
   "outputs": [
    {
     "name": "stdout",
     "output_type": "stream",
     "text": [
      "Data has been added to the database as table 'Bank_of_Canada_Interest_Rate'\n"
     ]
    }
   ],
   "source": [
    "# add data to the database\n",
    "\n",
    "import pandas as pd\n",
    "import sqlite3\n",
    "\n",
    "# Load the transformed CSV file\n",
    "transformed_file_path = '../data/processed/Bank_of_Canada_interest_rate_1980_2024_.csv'\n",
    "transformed_df = pd.read_csv(transformed_file_path)\n",
    "\n",
    "# Connect to the SQLite database\n",
    "db_path = '../data/sql/Canada_Housing_Prices_2005_2024.db'\n",
    "conn = sqlite3.connect(db_path)\n",
    "\n",
    "# Add the transformed data to the database\n",
    "table_name = 'Bank_of_Canada_Interest_Rate'\n",
    "transformed_df.to_sql(table_name, conn, if_exists='replace', index=False)\n",
    "\n",
    "# Close the connection\n",
    "conn.close()\n",
    "\n",
    "print(f\"Data has been added to the database as table '{table_name}'\")\n"
   ]
  },
  {
   "cell_type": "code",
   "execution_count": null,
   "metadata": {},
   "outputs": [],
   "source": []
  }
 ],
 "metadata": {
  "kernelspec": {
   "display_name": "Python 3",
   "language": "python",
   "name": "python3"
  },
  "language_info": {
   "codemirror_mode": {
    "name": "ipython",
    "version": 3
   },
   "file_extension": ".py",
   "mimetype": "text/x-python",
   "name": "python",
   "nbconvert_exporter": "python",
   "pygments_lexer": "ipython3",
   "version": "3.9.15"
  }
 },
 "nbformat": 4,
 "nbformat_minor": 2
}
